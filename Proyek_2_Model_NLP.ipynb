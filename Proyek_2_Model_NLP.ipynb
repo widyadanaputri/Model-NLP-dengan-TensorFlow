{
  "nbformat": 4,
  "nbformat_minor": 0,
  "metadata": {
    "colab": {
      "provenance": []
    },
    "kernelspec": {
      "name": "python3",
      "display_name": "Python 3"
    },
    "language_info": {
      "name": "python"
    }
  },
  "cells": [
    {
      "cell_type": "markdown",
      "source": [
        "Ardiyanti Widyadana Prastuti"
      ],
      "metadata": {
        "id": "6sOQxd4tu7wd"
      }
    },
    {
      "cell_type": "code",
      "execution_count": null,
      "metadata": {
        "colab": {
          "base_uri": "https://localhost:8080/"
        },
        "id": "rAiX2VVnw1-S",
        "outputId": "13e0daab-f503-4eab-ae20-e86326183ec3"
      },
      "outputs": [
        {
          "output_type": "stream",
          "name": "stdout",
          "text": [
            "Mounted at /content/drive/\n"
          ]
        }
      ],
      "source": [
        "# multiclass on text classification\n",
        "from google.colab import drive\n",
        "drive.mount('/content/drive/')"
      ]
    },
    {
      "cell_type": "code",
      "source": [
        "# me-load dataset\n",
        "import pandas as pd\n",
        "df = pd.read_csv('/content/drive/MyDrive/Colab Notebooks/coba/test1.csv')\n",
        "#df = df.drop(columns=['text', 'date'])\n",
        "\n",
        "df"
      ],
      "metadata": {
        "colab": {
          "base_uri": "https://localhost:8080/",
          "height": 424
        },
        "id": "QRO1ToAQxKfp",
        "outputId": "fdd222df-3059-490a-cee5-9eaaed97aacf"
      },
      "execution_count": null,
      "outputs": [
        {
          "output_type": "execute_result",
          "data": {
            "text/plain": [
              "                                                  Review sentiment\n",
              "0      My daughter liked it but I was aghast, that a ...       neg\n",
              "1      I... No words. No words can describe this. I w...       neg\n",
              "2      this film is basically a poor take on the old ...       neg\n",
              "3      This is a terrible movie, and I'm not even sur...       neg\n",
              "4      First of all this movie is a piece of reality ...       pos\n",
              "...                                                  ...       ...\n",
              "24995  For one thing, he produced this movie. It has ...       neg\n",
              "24996  The title comes from an alteration an adolesce...       pos\n",
              "24997  Christopher Nolan's first film is a 'no budget...       pos\n",
              "24998  The story is shortly about the faith-lacking b...       neg\n",
              "24999  I found parts of this movie rather slow, espec...       pos\n",
              "\n",
              "[25000 rows x 2 columns]"
            ],
            "text/html": [
              "\n",
              "  <div id=\"df-71399304-f791-4466-87b6-b27af8f7729b\">\n",
              "    <div class=\"colab-df-container\">\n",
              "      <div>\n",
              "<style scoped>\n",
              "    .dataframe tbody tr th:only-of-type {\n",
              "        vertical-align: middle;\n",
              "    }\n",
              "\n",
              "    .dataframe tbody tr th {\n",
              "        vertical-align: top;\n",
              "    }\n",
              "\n",
              "    .dataframe thead th {\n",
              "        text-align: right;\n",
              "    }\n",
              "</style>\n",
              "<table border=\"1\" class=\"dataframe\">\n",
              "  <thead>\n",
              "    <tr style=\"text-align: right;\">\n",
              "      <th></th>\n",
              "      <th>Review</th>\n",
              "      <th>sentiment</th>\n",
              "    </tr>\n",
              "  </thead>\n",
              "  <tbody>\n",
              "    <tr>\n",
              "      <th>0</th>\n",
              "      <td>My daughter liked it but I was aghast, that a ...</td>\n",
              "      <td>neg</td>\n",
              "    </tr>\n",
              "    <tr>\n",
              "      <th>1</th>\n",
              "      <td>I... No words. No words can describe this. I w...</td>\n",
              "      <td>neg</td>\n",
              "    </tr>\n",
              "    <tr>\n",
              "      <th>2</th>\n",
              "      <td>this film is basically a poor take on the old ...</td>\n",
              "      <td>neg</td>\n",
              "    </tr>\n",
              "    <tr>\n",
              "      <th>3</th>\n",
              "      <td>This is a terrible movie, and I'm not even sur...</td>\n",
              "      <td>neg</td>\n",
              "    </tr>\n",
              "    <tr>\n",
              "      <th>4</th>\n",
              "      <td>First of all this movie is a piece of reality ...</td>\n",
              "      <td>pos</td>\n",
              "    </tr>\n",
              "    <tr>\n",
              "      <th>...</th>\n",
              "      <td>...</td>\n",
              "      <td>...</td>\n",
              "    </tr>\n",
              "    <tr>\n",
              "      <th>24995</th>\n",
              "      <td>For one thing, he produced this movie. It has ...</td>\n",
              "      <td>neg</td>\n",
              "    </tr>\n",
              "    <tr>\n",
              "      <th>24996</th>\n",
              "      <td>The title comes from an alteration an adolesce...</td>\n",
              "      <td>pos</td>\n",
              "    </tr>\n",
              "    <tr>\n",
              "      <th>24997</th>\n",
              "      <td>Christopher Nolan's first film is a 'no budget...</td>\n",
              "      <td>pos</td>\n",
              "    </tr>\n",
              "    <tr>\n",
              "      <th>24998</th>\n",
              "      <td>The story is shortly about the faith-lacking b...</td>\n",
              "      <td>neg</td>\n",
              "    </tr>\n",
              "    <tr>\n",
              "      <th>24999</th>\n",
              "      <td>I found parts of this movie rather slow, espec...</td>\n",
              "      <td>pos</td>\n",
              "    </tr>\n",
              "  </tbody>\n",
              "</table>\n",
              "<p>25000 rows × 2 columns</p>\n",
              "</div>\n",
              "      <button class=\"colab-df-convert\" onclick=\"convertToInteractive('df-71399304-f791-4466-87b6-b27af8f7729b')\"\n",
              "              title=\"Convert this dataframe to an interactive table.\"\n",
              "              style=\"display:none;\">\n",
              "        \n",
              "  <svg xmlns=\"http://www.w3.org/2000/svg\" height=\"24px\"viewBox=\"0 0 24 24\"\n",
              "       width=\"24px\">\n",
              "    <path d=\"M0 0h24v24H0V0z\" fill=\"none\"/>\n",
              "    <path d=\"M18.56 5.44l.94 2.06.94-2.06 2.06-.94-2.06-.94-.94-2.06-.94 2.06-2.06.94zm-11 1L8.5 8.5l.94-2.06 2.06-.94-2.06-.94L8.5 2.5l-.94 2.06-2.06.94zm10 10l.94 2.06.94-2.06 2.06-.94-2.06-.94-.94-2.06-.94 2.06-2.06.94z\"/><path d=\"M17.41 7.96l-1.37-1.37c-.4-.4-.92-.59-1.43-.59-.52 0-1.04.2-1.43.59L10.3 9.45l-7.72 7.72c-.78.78-.78 2.05 0 2.83L4 21.41c.39.39.9.59 1.41.59.51 0 1.02-.2 1.41-.59l7.78-7.78 2.81-2.81c.8-.78.8-2.07 0-2.86zM5.41 20L4 18.59l7.72-7.72 1.47 1.35L5.41 20z\"/>\n",
              "  </svg>\n",
              "      </button>\n",
              "      \n",
              "  <style>\n",
              "    .colab-df-container {\n",
              "      display:flex;\n",
              "      flex-wrap:wrap;\n",
              "      gap: 12px;\n",
              "    }\n",
              "\n",
              "    .colab-df-convert {\n",
              "      background-color: #E8F0FE;\n",
              "      border: none;\n",
              "      border-radius: 50%;\n",
              "      cursor: pointer;\n",
              "      display: none;\n",
              "      fill: #1967D2;\n",
              "      height: 32px;\n",
              "      padding: 0 0 0 0;\n",
              "      width: 32px;\n",
              "    }\n",
              "\n",
              "    .colab-df-convert:hover {\n",
              "      background-color: #E2EBFA;\n",
              "      box-shadow: 0px 1px 2px rgba(60, 64, 67, 0.3), 0px 1px 3px 1px rgba(60, 64, 67, 0.15);\n",
              "      fill: #174EA6;\n",
              "    }\n",
              "\n",
              "    [theme=dark] .colab-df-convert {\n",
              "      background-color: #3B4455;\n",
              "      fill: #D2E3FC;\n",
              "    }\n",
              "\n",
              "    [theme=dark] .colab-df-convert:hover {\n",
              "      background-color: #434B5C;\n",
              "      box-shadow: 0px 1px 3px 1px rgba(0, 0, 0, 0.15);\n",
              "      filter: drop-shadow(0px 1px 2px rgba(0, 0, 0, 0.3));\n",
              "      fill: #FFFFFF;\n",
              "    }\n",
              "  </style>\n",
              "\n",
              "      <script>\n",
              "        const buttonEl =\n",
              "          document.querySelector('#df-71399304-f791-4466-87b6-b27af8f7729b button.colab-df-convert');\n",
              "        buttonEl.style.display =\n",
              "          google.colab.kernel.accessAllowed ? 'block' : 'none';\n",
              "\n",
              "        async function convertToInteractive(key) {\n",
              "          const element = document.querySelector('#df-71399304-f791-4466-87b6-b27af8f7729b');\n",
              "          const dataTable =\n",
              "            await google.colab.kernel.invokeFunction('convertToInteractive',\n",
              "                                                     [key], {});\n",
              "          if (!dataTable) return;\n",
              "\n",
              "          const docLinkHtml = 'Like what you see? Visit the ' +\n",
              "            '<a target=\"_blank\" href=https://colab.research.google.com/notebooks/data_table.ipynb>data table notebook</a>'\n",
              "            + ' to learn more about interactive tables.';\n",
              "          element.innerHTML = '';\n",
              "          dataTable['output_type'] = 'display_data';\n",
              "          await google.colab.output.renderOutput(dataTable, element);\n",
              "          const docLink = document.createElement('div');\n",
              "          docLink.innerHTML = docLinkHtml;\n",
              "          element.appendChild(docLink);\n",
              "        }\n",
              "      </script>\n",
              "    </div>\n",
              "  </div>\n",
              "  "
            ]
          },
          "metadata": {},
          "execution_count": 4
        }
      ]
    },
    {
      "cell_type": "code",
      "source": [
        "import tensorflow as tf\n",
        "\n",
        "class myCallback(tf.keras.callbacks.Callback):\n",
        "  def on_epoch_end(self, epoch, logs={}):\n",
        "    if(logs.get('accuracy') > 0.91):\n",
        "      print(\"\\nTraning data berhenti, tingkat akurasi > 91%\")\n",
        "      self.model.stop_training = True\n",
        "\n",
        "callbacks = myCallback()"
      ],
      "metadata": {
        "id": "S9XTNMwlxgPo"
      },
      "execution_count": null,
      "outputs": []
    },
    {
      "cell_type": "code",
      "source": [
        "# on encoding\n",
        "\n",
        "category = pd.get_dummies(df.sentiment)\n",
        "df_baru = pd.concat([df, category], axis=1)\n",
        "df_baru = df_baru.drop(columns='sentiment')\n",
        "df_baru"
      ],
      "metadata": {
        "colab": {
          "base_uri": "https://localhost:8080/",
          "height": 424
        },
        "id": "gJWCPfLtyJM3",
        "outputId": "e25120b0-8d34-481e-b40d-652311431296"
      },
      "execution_count": null,
      "outputs": [
        {
          "output_type": "execute_result",
          "data": {
            "text/plain": [
              "                                                  Review  neg  pos\n",
              "0      My daughter liked it but I was aghast, that a ...    1    0\n",
              "1      I... No words. No words can describe this. I w...    1    0\n",
              "2      this film is basically a poor take on the old ...    1    0\n",
              "3      This is a terrible movie, and I'm not even sur...    1    0\n",
              "4      First of all this movie is a piece of reality ...    0    1\n",
              "...                                                  ...  ...  ...\n",
              "24995  For one thing, he produced this movie. It has ...    1    0\n",
              "24996  The title comes from an alteration an adolesce...    0    1\n",
              "24997  Christopher Nolan's first film is a 'no budget...    0    1\n",
              "24998  The story is shortly about the faith-lacking b...    1    0\n",
              "24999  I found parts of this movie rather slow, espec...    0    1\n",
              "\n",
              "[25000 rows x 3 columns]"
            ],
            "text/html": [
              "\n",
              "  <div id=\"df-5428a5bf-1c30-4400-b39c-7f48d215817a\">\n",
              "    <div class=\"colab-df-container\">\n",
              "      <div>\n",
              "<style scoped>\n",
              "    .dataframe tbody tr th:only-of-type {\n",
              "        vertical-align: middle;\n",
              "    }\n",
              "\n",
              "    .dataframe tbody tr th {\n",
              "        vertical-align: top;\n",
              "    }\n",
              "\n",
              "    .dataframe thead th {\n",
              "        text-align: right;\n",
              "    }\n",
              "</style>\n",
              "<table border=\"1\" class=\"dataframe\">\n",
              "  <thead>\n",
              "    <tr style=\"text-align: right;\">\n",
              "      <th></th>\n",
              "      <th>Review</th>\n",
              "      <th>neg</th>\n",
              "      <th>pos</th>\n",
              "    </tr>\n",
              "  </thead>\n",
              "  <tbody>\n",
              "    <tr>\n",
              "      <th>0</th>\n",
              "      <td>My daughter liked it but I was aghast, that a ...</td>\n",
              "      <td>1</td>\n",
              "      <td>0</td>\n",
              "    </tr>\n",
              "    <tr>\n",
              "      <th>1</th>\n",
              "      <td>I... No words. No words can describe this. I w...</td>\n",
              "      <td>1</td>\n",
              "      <td>0</td>\n",
              "    </tr>\n",
              "    <tr>\n",
              "      <th>2</th>\n",
              "      <td>this film is basically a poor take on the old ...</td>\n",
              "      <td>1</td>\n",
              "      <td>0</td>\n",
              "    </tr>\n",
              "    <tr>\n",
              "      <th>3</th>\n",
              "      <td>This is a terrible movie, and I'm not even sur...</td>\n",
              "      <td>1</td>\n",
              "      <td>0</td>\n",
              "    </tr>\n",
              "    <tr>\n",
              "      <th>4</th>\n",
              "      <td>First of all this movie is a piece of reality ...</td>\n",
              "      <td>0</td>\n",
              "      <td>1</td>\n",
              "    </tr>\n",
              "    <tr>\n",
              "      <th>...</th>\n",
              "      <td>...</td>\n",
              "      <td>...</td>\n",
              "      <td>...</td>\n",
              "    </tr>\n",
              "    <tr>\n",
              "      <th>24995</th>\n",
              "      <td>For one thing, he produced this movie. It has ...</td>\n",
              "      <td>1</td>\n",
              "      <td>0</td>\n",
              "    </tr>\n",
              "    <tr>\n",
              "      <th>24996</th>\n",
              "      <td>The title comes from an alteration an adolesce...</td>\n",
              "      <td>0</td>\n",
              "      <td>1</td>\n",
              "    </tr>\n",
              "    <tr>\n",
              "      <th>24997</th>\n",
              "      <td>Christopher Nolan's first film is a 'no budget...</td>\n",
              "      <td>0</td>\n",
              "      <td>1</td>\n",
              "    </tr>\n",
              "    <tr>\n",
              "      <th>24998</th>\n",
              "      <td>The story is shortly about the faith-lacking b...</td>\n",
              "      <td>1</td>\n",
              "      <td>0</td>\n",
              "    </tr>\n",
              "    <tr>\n",
              "      <th>24999</th>\n",
              "      <td>I found parts of this movie rather slow, espec...</td>\n",
              "      <td>0</td>\n",
              "      <td>1</td>\n",
              "    </tr>\n",
              "  </tbody>\n",
              "</table>\n",
              "<p>25000 rows × 3 columns</p>\n",
              "</div>\n",
              "      <button class=\"colab-df-convert\" onclick=\"convertToInteractive('df-5428a5bf-1c30-4400-b39c-7f48d215817a')\"\n",
              "              title=\"Convert this dataframe to an interactive table.\"\n",
              "              style=\"display:none;\">\n",
              "        \n",
              "  <svg xmlns=\"http://www.w3.org/2000/svg\" height=\"24px\"viewBox=\"0 0 24 24\"\n",
              "       width=\"24px\">\n",
              "    <path d=\"M0 0h24v24H0V0z\" fill=\"none\"/>\n",
              "    <path d=\"M18.56 5.44l.94 2.06.94-2.06 2.06-.94-2.06-.94-.94-2.06-.94 2.06-2.06.94zm-11 1L8.5 8.5l.94-2.06 2.06-.94-2.06-.94L8.5 2.5l-.94 2.06-2.06.94zm10 10l.94 2.06.94-2.06 2.06-.94-2.06-.94-.94-2.06-.94 2.06-2.06.94z\"/><path d=\"M17.41 7.96l-1.37-1.37c-.4-.4-.92-.59-1.43-.59-.52 0-1.04.2-1.43.59L10.3 9.45l-7.72 7.72c-.78.78-.78 2.05 0 2.83L4 21.41c.39.39.9.59 1.41.59.51 0 1.02-.2 1.41-.59l7.78-7.78 2.81-2.81c.8-.78.8-2.07 0-2.86zM5.41 20L4 18.59l7.72-7.72 1.47 1.35L5.41 20z\"/>\n",
              "  </svg>\n",
              "      </button>\n",
              "      \n",
              "  <style>\n",
              "    .colab-df-container {\n",
              "      display:flex;\n",
              "      flex-wrap:wrap;\n",
              "      gap: 12px;\n",
              "    }\n",
              "\n",
              "    .colab-df-convert {\n",
              "      background-color: #E8F0FE;\n",
              "      border: none;\n",
              "      border-radius: 50%;\n",
              "      cursor: pointer;\n",
              "      display: none;\n",
              "      fill: #1967D2;\n",
              "      height: 32px;\n",
              "      padding: 0 0 0 0;\n",
              "      width: 32px;\n",
              "    }\n",
              "\n",
              "    .colab-df-convert:hover {\n",
              "      background-color: #E2EBFA;\n",
              "      box-shadow: 0px 1px 2px rgba(60, 64, 67, 0.3), 0px 1px 3px 1px rgba(60, 64, 67, 0.15);\n",
              "      fill: #174EA6;\n",
              "    }\n",
              "\n",
              "    [theme=dark] .colab-df-convert {\n",
              "      background-color: #3B4455;\n",
              "      fill: #D2E3FC;\n",
              "    }\n",
              "\n",
              "    [theme=dark] .colab-df-convert:hover {\n",
              "      background-color: #434B5C;\n",
              "      box-shadow: 0px 1px 3px 1px rgba(0, 0, 0, 0.15);\n",
              "      filter: drop-shadow(0px 1px 2px rgba(0, 0, 0, 0.3));\n",
              "      fill: #FFFFFF;\n",
              "    }\n",
              "  </style>\n",
              "\n",
              "      <script>\n",
              "        const buttonEl =\n",
              "          document.querySelector('#df-5428a5bf-1c30-4400-b39c-7f48d215817a button.colab-df-convert');\n",
              "        buttonEl.style.display =\n",
              "          google.colab.kernel.accessAllowed ? 'block' : 'none';\n",
              "\n",
              "        async function convertToInteractive(key) {\n",
              "          const element = document.querySelector('#df-5428a5bf-1c30-4400-b39c-7f48d215817a');\n",
              "          const dataTable =\n",
              "            await google.colab.kernel.invokeFunction('convertToInteractive',\n",
              "                                                     [key], {});\n",
              "          if (!dataTable) return;\n",
              "\n",
              "          const docLinkHtml = 'Like what you see? Visit the ' +\n",
              "            '<a target=\"_blank\" href=https://colab.research.google.com/notebooks/data_table.ipynb>data table notebook</a>'\n",
              "            + ' to learn more about interactive tables.';\n",
              "          element.innerHTML = '';\n",
              "          dataTable['output_type'] = 'display_data';\n",
              "          await google.colab.output.renderOutput(dataTable, element);\n",
              "          const docLink = document.createElement('div');\n",
              "          docLink.innerHTML = docLinkHtml;\n",
              "          element.appendChild(docLink);\n",
              "        }\n",
              "      </script>\n",
              "    </div>\n",
              "  </div>\n",
              "  "
            ]
          },
          "metadata": {},
          "execution_count": 6
        }
      ]
    },
    {
      "cell_type": "code",
      "source": [
        "# on split dataframe\n",
        "review = df_baru['Review'].values\n",
        "label = df_baru[['neg', 'pos']].values\n",
        "\n",
        "review"
      ],
      "metadata": {
        "colab": {
          "base_uri": "https://localhost:8080/"
        },
        "id": "lefl5IhGyUUP",
        "outputId": "45f959b2-9c1c-435c-a1ac-04e3fa2c7e24"
      },
      "execution_count": null,
      "outputs": [
        {
          "output_type": "execute_result",
          "data": {
            "text/plain": [
              "array(['My daughter liked it but I was aghast, that a character in this movie smokes. As if it isn\\'t awful enough to see \"product placement\" actors like Bruce Willis who smoke in their movies - at least children movies should be more considerate! I wonder: was that intentional? Did big tobacco \"sponsor\" the film? What does it take to ban smoking from films? At least films intended for children and adolescents. My daughter liked it but I was aghast, that a character in this movie smokes. As if it isn\\'t awful enough to see \"product placement\" actors like Bruce Willis who smoke in their movies - at least children movies should be more considerate! I wonder: was that intentional? Did big tobacco \"sponsor\" the film? What does it take to ban smoking from films? At least films intended for children and adolescents.',\n",
              "       \"I... No words. No words can describe this. I will try for the sake of those few brave people who stick knives into their toasters... after watching this show.<br /><br />This... Cosgrove person... Her acting is like watching a female gorilla dance upon the nest of highly agitated insects. Perhaps I exaggerate. However, I have a feeling that the description fits a regular day of writing this show.<br /><br />The characters in this repulsive pile of raw sewage are as useless as a small piece of space rock that flies into the sun on any day of the week. Though heart attacks have not been experienced while watching them act like fools on the cheaply built sets, I have no doubt that it will happen eventually.<br /><br />The main plot of this *belches loudly into the faces of the actors* is that of a foolish girl who hosts a live weekly web-cast on the creatively titled iCarly.com with her brainless friends, one of which owns equipment that the producers of this show probably couldn't afford. Her legal guardian is some kind of moron who is apparently her older brother.<br /><br />I haven't watched all of this show for fear of developing cancer, or perhaps a cold, but some of the plot points I have seen involve the brother getting stuck in an elevator, the doorman of the apartment almost dieing, and the world's fattest priest coming for a visit. No, really.<br /><br />Avoid this if you are over the age of unborn or if you have a history of joining mysterious cults due to mental trauma. If you do decide to watch it, laugh when the laugh-track tells you to, as this will drown out the repetitive noise that will eventually put you in a coma if you listen to it for too long. <br /><br />The show receives a one star rating because the IMDb inexplicably has not adopted the use of negative numbers.\",\n",
              "       \"this film is basically a poor take on the old urban legend of the babysitter who gets crank calls telling her to check the children, she calls the police who trace the calls and find there coming from inside the house. when a killer calls has a story so simplistic a little kid could have written it. not much suspense, it becomes clear who the killer is halfway through the film. at the beginning, when the first victim is killed it looks like a bondage fetish scene from a porn site or something. whats up with that? the film is oh so typical slasher fare with a plot about as original as a Beatles concert. even by low budget slasher standards its cheesy. don't waste your time with this. nuff said\",\n",
              "       ...,\n",
              "       \"Christopher Nolan's first film is a 'no budget' black and white film about a unemployed writer who begins following strangers, which in turn leads to robbery and also violence. It is very good.<br /><br />Like in his later film 'Memento' he doesn't present the story in a linear way. Instead it jumps around somewhat so you end up really sucked in trying to piece it all together and early, apparently random, shots take on significance as the film progresses. This style also means the twists are much more effective.<br /><br />Definitely worth seeing if you get the chance (especially if you like his later work and/or Film Noir)\",\n",
              "       \"The story is shortly about the faith-lacking business man priest, Daniel Clemens (Christian Slater), who is looking closer on a case where another priest is suspected for murder. The priest denies he's guilty but at the same time he is not able to discuss the matter due to confidentiality. Enter Daniel Clemens who starts playing cop...<br /><br />While the plot isn't ridiculous, everything else is. Let's start with the visual side, the cinematography is dull, it looks more like a TV-series than a movie. The camera angles are boring, in fact, there's not a single memorable camera angle in the entire movie. There's no interesting closeups revealing details. And the scene transitions, well, there's not much to say about those, they aren't smooth at all, there seems to be no connection between the scenes than the actual plot. Okay, they did use a transition with music in between two scenes, but there are no interesting visual transitions in the entire movie, the times dissolve was used there was no visual connection between the scenes.<br /><br />The boring visual part could be forgiven if the film would offer anything else. Unfortunately the film only offers forced wooden acting and clumsy dialogue with no punch. On top of that the film suffers from audio problems, the sound volume is lowered several times in the movie as if the microphones would be too far.<br /><br />I didn't predict the solution of the film. It could be because the film never gave me the opportunity or it could be due to the presentation, which was so boring I never even tried to figure it out.<br /><br />Put two plus two together and it equals a B-movie where 'B' stands for boring.\",\n",
              "       \"I found parts of this movie rather slow, especially the first part; the second part seemed to go a lot faster, but it's not totally clear to me as to why one part was faster than the other. I somehow managed to find it enjoyable. The acting was good, the writing was good (yet vulgar). There was also another good side to it: it was easier to understand than say, the Godfather movies. You knew who was on whose side, etc. All in all, the movie wasn't half-bad.\"],\n",
              "      dtype=object)"
            ]
          },
          "metadata": {},
          "execution_count": 7
        }
      ]
    },
    {
      "cell_type": "code",
      "source": [
        "# view label array\n",
        "label"
      ],
      "metadata": {
        "colab": {
          "base_uri": "https://localhost:8080/"
        },
        "id": "VxoHcTgT5Hfa",
        "outputId": "9c1f9197-53c6-49a1-af22-95bf5830dcdd"
      },
      "execution_count": null,
      "outputs": [
        {
          "output_type": "execute_result",
          "data": {
            "text/plain": [
              "array([[1, 0],\n",
              "       [1, 0],\n",
              "       [1, 0],\n",
              "       ...,\n",
              "       [0, 1],\n",
              "       [1, 0],\n",
              "       [0, 1]], dtype=uint8)"
            ]
          },
          "metadata": {},
          "execution_count": 8
        }
      ]
    },
    {
      "cell_type": "code",
      "source": [
        "from sklearn.model_selection import train_test_split\n",
        "\n",
        "text = df_baru['Review'].values\n",
        "y = df_baru[['neg', 'pos']].values\n",
        "text_train, text_test, y_train, y_test = train_test_split(text, y, test_size = 0.2)"
      ],
      "metadata": {
        "id": "95j0zjFf5K3I"
      },
      "execution_count": null,
      "outputs": []
    },
    {
      "cell_type": "code",
      "source": [
        "#tensorflow\n",
        "from tensorflow.keras.preprocessing.text import Tokenizer\n",
        "from tensorflow.keras.preprocessing.sequence import pad_sequences\n",
        "\n",
        "# on tokenizer\n",
        "tokenizer = Tokenizer(num_words = 280617, oov_token = '-')\n",
        "tokenizer.fit_on_texts(text_train)\n",
        "tokenizer.fit_on_texts(text_test)\n",
        "\n",
        "# on sequences\n",
        "seq_train = tokenizer.texts_to_sequences(text_train)\n",
        "seq_test = tokenizer.texts_to_sequences(text_test)\n",
        "\n",
        "# on padding\n",
        "pad_train = pad_sequences(seq_train, maxlen = 300, padding = 'post', truncating = 'post')\n",
        "\n",
        "pad_test = pad_sequences(seq_test, maxlen = 300, padding = 'post', truncating = 'post')"
      ],
      "metadata": {
        "id": "gwPFgzfC5VhN"
      },
      "execution_count": null,
      "outputs": []
    },
    {
      "cell_type": "code",
      "source": [
        "# on embedding\n",
        "from tensorflow.keras import layers\n",
        "from tensorflow.keras import Sequential\n",
        "\n",
        "model = Sequential([layers.Embedding(280617, 64, input_length = 300),\n",
        "                    layers.LSTM(64, dropout = 0.1),\n",
        "                    layers.Dense(128, activation = 'relu'),\n",
        "                    layers.Dense(64, activation = 'relu'),\n",
        "                    layers.Dense(2, activation = 'sigmoid')\n",
        "                    ])\n",
        "\n",
        "model.summary()"
      ],
      "metadata": {
        "colab": {
          "base_uri": "https://localhost:8080/"
        },
        "id": "lMRpoArQ5fAF",
        "outputId": "e6df215a-ec50-4b55-b530-bfb4abaa7336"
      },
      "execution_count": null,
      "outputs": [
        {
          "output_type": "stream",
          "name": "stdout",
          "text": [
            "Model: \"sequential\"\n",
            "_________________________________________________________________\n",
            " Layer (type)                Output Shape              Param #   \n",
            "=================================================================\n",
            " embedding (Embedding)       (None, 300, 64)           17959488  \n",
            "                                                                 \n",
            " lstm (LSTM)                 (None, 64)                33024     \n",
            "                                                                 \n",
            " dense (Dense)               (None, 128)               8320      \n",
            "                                                                 \n",
            " dense_1 (Dense)             (None, 64)                8256      \n",
            "                                                                 \n",
            " dense_2 (Dense)             (None, 2)                 130       \n",
            "                                                                 \n",
            "=================================================================\n",
            "Total params: 18,009,218\n",
            "Trainable params: 18,009,218\n",
            "Non-trainable params: 0\n",
            "_________________________________________________________________\n"
          ]
        }
      ]
    },
    {
      "cell_type": "code",
      "source": [
        "# on model training\n",
        "model.compile(loss = 'binary_crossentropy', optimizer = 'adam', metrics = ['accuracy'])\n",
        "\n",
        "history = model.fit(pad_train, \n",
        "                    y_train, \n",
        "                    batch_size = 128, \n",
        "                    epochs = 30,\n",
        "                    validation_data = (pad_test, y_test),\n",
        "                    verbose = 2,\n",
        "                    callbacks = [callbacks])"
      ],
      "metadata": {
        "colab": {
          "base_uri": "https://localhost:8080/"
        },
        "id": "Ydsdnn3l5lUJ",
        "outputId": "1b94bb41-9cb1-4d7c-a1e3-0cebc18623d4"
      },
      "execution_count": null,
      "outputs": [
        {
          "output_type": "stream",
          "name": "stdout",
          "text": [
            "Epoch 1/30\n",
            "157/157 - 95s - loss: 0.6928 - accuracy: 0.5078 - val_loss: 0.6987 - val_accuracy: 0.5080 - 95s/epoch - 607ms/step\n",
            "Epoch 2/30\n",
            "157/157 - 93s - loss: 0.6490 - accuracy: 0.5760 - val_loss: 0.7062 - val_accuracy: 0.5634 - 93s/epoch - 595ms/step\n",
            "Epoch 3/30\n",
            "157/157 - 90s - loss: 0.5971 - accuracy: 0.6696 - val_loss: 0.5118 - val_accuracy: 0.7780 - 90s/epoch - 574ms/step\n",
            "Epoch 4/30\n",
            "157/157 - 90s - loss: 0.5740 - accuracy: 0.6657 - val_loss: 0.6929 - val_accuracy: 0.5342 - 90s/epoch - 570ms/step\n",
            "Epoch 5/30\n",
            "157/157 - 89s - loss: 0.5496 - accuracy: 0.6781 - val_loss: 0.4942 - val_accuracy: 0.8110 - 89s/epoch - 568ms/step\n",
            "Epoch 6/30\n",
            "157/157 - 89s - loss: 0.4634 - accuracy: 0.7954 - val_loss: 0.5563 - val_accuracy: 0.7580 - 89s/epoch - 568ms/step\n",
            "Epoch 7/30\n",
            "157/157 - 89s - loss: 0.4307 - accuracy: 0.8271 - val_loss: 0.5470 - val_accuracy: 0.8072 - 89s/epoch - 568ms/step\n",
            "Epoch 8/30\n",
            "157/157 - 90s - loss: 0.5280 - accuracy: 0.6730 - val_loss: 0.7392 - val_accuracy: 0.5708 - 90s/epoch - 571ms/step\n",
            "Epoch 9/30\n",
            "157/157 - 89s - loss: 0.5286 - accuracy: 0.6309 - val_loss: 0.7561 - val_accuracy: 0.6022 - 89s/epoch - 569ms/step\n",
            "Epoch 10/30\n",
            "157/157 - 91s - loss: 0.4521 - accuracy: 0.7603 - val_loss: 0.5335 - val_accuracy: 0.8042 - 91s/epoch - 581ms/step\n",
            "Epoch 11/30\n",
            "157/157 - 90s - loss: 0.4597 - accuracy: 0.7780 - val_loss: 0.5775 - val_accuracy: 0.7554 - 90s/epoch - 570ms/step\n",
            "Epoch 12/30\n",
            "157/157 - 89s - loss: 0.5528 - accuracy: 0.6776 - val_loss: 0.6886 - val_accuracy: 0.5068 - 89s/epoch - 569ms/step\n",
            "Epoch 13/30\n",
            "157/157 - 89s - loss: 0.6746 - accuracy: 0.5539 - val_loss: 0.6827 - val_accuracy: 0.5228 - 89s/epoch - 569ms/step\n",
            "Epoch 14/30\n",
            "157/157 - 89s - loss: 0.6422 - accuracy: 0.6005 - val_loss: 0.6939 - val_accuracy: 0.5020 - 89s/epoch - 569ms/step\n",
            "Epoch 15/30\n",
            "157/157 - 88s - loss: 0.6426 - accuracy: 0.5931 - val_loss: 0.6855 - val_accuracy: 0.5694 - 88s/epoch - 563ms/step\n",
            "Epoch 16/30\n",
            "157/157 - 89s - loss: 0.5681 - accuracy: 0.6596 - val_loss: 1.5100 - val_accuracy: 0.5206 - 89s/epoch - 567ms/step\n",
            "Epoch 17/30\n",
            "157/157 - 89s - loss: 0.6840 - accuracy: 0.5741 - val_loss: 0.7220 - val_accuracy: 0.5466 - 89s/epoch - 566ms/step\n",
            "Epoch 18/30\n",
            "157/157 - 89s - loss: 0.4702 - accuracy: 0.7820 - val_loss: 0.5306 - val_accuracy: 0.7744 - 89s/epoch - 567ms/step\n",
            "Epoch 19/30\n",
            "157/157 - 89s - loss: 0.5134 - accuracy: 0.7383 - val_loss: 0.5094 - val_accuracy: 0.7596 - 89s/epoch - 568ms/step\n",
            "Epoch 20/30\n",
            "157/157 - 89s - loss: 0.2760 - accuracy: 0.8942 - val_loss: 0.3849 - val_accuracy: 0.8498 - 89s/epoch - 568ms/step\n",
            "Epoch 21/30\n",
            "\n",
            "Traning data berhenti, tingkat akurasi > 91%\n",
            "157/157 - 89s - loss: 0.2098 - accuracy: 0.9218 - val_loss: 0.3403 - val_accuracy: 0.8718 - 89s/epoch - 568ms/step\n"
          ]
        }
      ]
    },
    {
      "cell_type": "code",
      "source": [
        "# onmodel accuracy\n",
        "import matplotlib.pyplot as plt\n",
        "\n",
        "plt.plot(history.history['accuracy'])\n",
        "plt.plot(history.history['val_accuracy'])\n",
        "plt.title('MODEL ACCURACY')\n",
        "plt.ylabel('Accuracy')\n",
        "plt.xlabel('Epoch')\n",
        "plt.legend(['train', 'test'], loc = 'upper left')\n",
        "plt.show()"
      ],
      "metadata": {
        "colab": {
          "base_uri": "https://localhost:8080/",
          "height": 295
        },
        "id": "8qv-uB0Wv6Hm",
        "outputId": "4be37f7f-3701-4f66-b8c1-9a1f85e824d7"
      },
      "execution_count": null,
      "outputs": [
        {
          "output_type": "display_data",
          "data": {
            "text/plain": [
              "<Figure size 432x288 with 1 Axes>"
            ],
            "image/png": "[encoded data removed]"
          },
          "metadata": {
            "needs_background": "light"
          }
        }
      ]
    },
    {
      "cell_type": "code",
      "source": [
        "# on model loss\n",
        "import matplotlib.pyplot as plt\n",
        "\n",
        "plt.plot(history.history['loss'])\n",
        "plt.plot(history.history['val_loss'])\n",
        "plt.title('MODEL LOSS')\n",
        "plt.ylabel('Accuracy')\n",
        "plt.xlabel('Epoch')\n",
        "plt.legend(['train', 'test'], loc = 'upper left')\n",
        "plt.show()"
      ],
      "metadata": {
        "colab": {
          "base_uri": "https://localhost:8080/",
          "height": 295
        },
        "id": "AVxpK42vn4D3",
        "outputId": "70e1d7bc-5dbc-48de-9842-c4126b8b38d0"
      },
      "execution_count": null,
      "outputs": [
        {
          "output_type": "display_data",
          "data": {
            "text/plain": [
              "<Figure size 432x288 with 1 Axes>"
            ],
            "image/png": "[encoded data removed]"
          },
          "metadata": {
            "needs_background": "light"
          }
        }
      ]
    }
  ]
}